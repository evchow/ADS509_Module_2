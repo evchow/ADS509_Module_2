{
 "cells": [
  {
   "cell_type": "markdown",
   "id": "7f79baf9",
   "metadata": {},
   "source": [
    "# ADS 509 Assignment 2.1: Tokenization, Normalization, Descriptive Statistics \n",
    "\n",
    "This notebook holds Assignment 2.1 for Module 2 in ADS 509, Applied Text Mining. Work through this notebook, writing code and answering questions where required. \n",
    "\n",
    "In the previous assignment you put together Twitter data and lyrics data on two artists. In this assignment we explore some of the textual features of those data sets. If, for some reason, you did not complete that previous assignment, data to use for this assignment can be found in the assignment materials section of Blackboard. \n",
    "\n",
    "This assignment asks you to write a short function to calculate some descriptive statistics on a piece of text. Then you are asked to find some interesting and unique statistics on your corpora. \n"
   ]
  },
  {
   "cell_type": "code",
   "execution_count": 1,
   "id": "e2d096b7",
   "metadata": {},
   "outputs": [],
   "source": [
    "import os\n",
    "import re\n",
    "import emoji\n",
    "import pandas as pd\n",
    "import numpy as np\n",
    "import nltk\n",
    "import string\n",
    "\n",
    "from collections import Counter, defaultdict\n",
    "from nltk.corpus import stopwords\n",
    "from string import punctuation\n",
    "\n",
    "sw = stopwords.words(\"english\")"
   ]
  },
  {
   "cell_type": "code",
   "execution_count": 2,
   "id": "6b555ab2",
   "metadata": {},
   "outputs": [],
   "source": [
    "# Add any additional import statements you need here\n",
    "from collections import Counter\n",
    "import matplotlib.pyplot as plt\n"
   ]
  },
  {
   "cell_type": "code",
   "execution_count": 3,
   "id": "923b5a86",
   "metadata": {},
   "outputs": [],
   "source": [
    "# change `data_location` to the location of the folder on your machine.\n",
    "data_location = \"/Users/evachow/Documents/USD/ADS509/Module2/M1_Results/\"\n",
    "\n",
    "# These subfolders should still work if you correctly stored the \n",
    "# data from the Module 1 assignment\n",
    "twitter_folder = \"twitter\"\n",
    "lyrics_folder = \"lyrics\""
   ]
  },
  {
   "cell_type": "code",
   "execution_count": 4,
   "id": "06522af9",
   "metadata": {},
   "outputs": [],
   "source": [
    "def descriptive_stats(tokens, num_tokens = 5, verbose=True) :\n",
    "    \"\"\"\n",
    "        Given a list of tokens, print number of tokens, number of unique tokens, \n",
    "        number of characters, lexical diversity (https://en.wikipedia.org/wiki/Lexical_diversity), \n",
    "        and num_tokens most common tokens. Return a list with the number of tokens, number\n",
    "        of unique tokens, lexical diversity, and number of characters. \n",
    "    \n",
    "    \"\"\"\n",
    "\n",
    "    # Fill in the correct values here. \n",
    "    num_tokens = len(tokens) # len gets the sum of values in a list\n",
    "    # see https://www.geeksforgeeks.org/how-to-count-unique-values-inside-a-list/\n",
    "    num_unique_tokens = len(set(tokens)) # sets don't contain duplicates, therefore we can sum a set to get unique values\n",
    "    lexical_diversity = len(set(tokens))/len(tokens)\n",
    "    # see https://stackoverflow.com/questions/25934586/finding-the-amount-of-characters-of-all-words-in-a-list-in-python\n",
    "    num_characters = sum([len(i) for i in tokens])\n",
    "    \n",
    "    if verbose :        \n",
    "        print(f\"There are {num_tokens} tokens in the data.\")\n",
    "        print(f\"There are {num_unique_tokens} unique tokens in the data.\")\n",
    "        print(f\"There are {num_characters} characters in the data.\")\n",
    "        print(f\"The lexical diversity is {lexical_diversity:.3f} in the data.\")\n",
    "\n",
    "        # print the five most common tokens\n",
    "        # see https://www.geeksforgeeks.org/find-k-frequent-words-data-set-python/\n",
    "        print(Counter(tokens).most_common(5))\n",
    "        \n",
    "    return([num_tokens, num_unique_tokens,\n",
    "            lexical_diversity,\n",
    "            num_characters])\n",
    "\n",
    "# lexical diversity is a measure of the number of unique words in a text\n",
    "# lexical diversity = number of unique words/ total number of words   "
   ]
  },
  {
   "cell_type": "code",
   "execution_count": 5,
   "id": "59dcf058",
   "metadata": {},
   "outputs": [
    {
     "name": "stdout",
     "output_type": "stream",
     "text": [
      "There are 13 tokens in the data.\n",
      "There are 9 unique tokens in the data.\n",
      "There are 55 characters in the data.\n",
      "The lexical diversity is 0.692 in the data.\n",
      "[('text', 3), ('here', 2), ('example', 2), ('is', 1), ('some', 1)]\n"
     ]
    }
   ],
   "source": [
    "text = \"\"\"here is some example text with other example text here in this text\"\"\".split()\n",
    "assert(descriptive_stats(text, verbose=True)[0] == 13)\n",
    "assert(descriptive_stats(text, verbose=False)[1] == 9)\n",
    "assert(abs(descriptive_stats(text, verbose=False)[2] - 0.69) < 0.02)\n",
    "assert(descriptive_stats(text, verbose=False)[3] == 55)\n"
   ]
  },
  {
   "cell_type": "markdown",
   "id": "d2e7e1a2",
   "metadata": {},
   "source": [
    "Q: Why is it beneficial to use assertion statements in your code? \n",
    "\n",
    "A: Assertion statements help to ensure that code runs appropriately. In the case that there are bugs or errors in code, the error/warning that we instruct the assertion statement to deliver will tell us that something is amiss. We are ultimately testing the assumptions that we have made about the code and what it will return."
   ]
  },
  {
   "cell_type": "markdown",
   "id": "9d3bf93e",
   "metadata": {},
   "source": [
    "## Data Input\n",
    "\n",
    "Now read in each of the corpora. For the lyrics data, it may be convenient to store the entire contents of the file to make it easier to inspect the titles individually, as you'll do in the last part of the assignment. In the solution, I stored the lyrics data in a dictionary with two dimensions of keys: artist and song. The value was the file contents. A data frame would work equally well. \n",
    "\n",
    "For the Twitter data, we only need the description field for this assignment. Feel free all the descriptions read it into a data structure. In the solution, I stored the descriptions as a dictionary of lists, with the key being the artist. \n",
    "\n",
    "\n"
   ]
  },
  {
   "cell_type": "code",
   "execution_count": 6,
   "id": "37d70801",
   "metadata": {},
   "outputs": [],
   "source": [
    "# Read in the lyrics data\n",
    "# define our unique artists\n",
    "artist = ['cher', 'robyn']\n",
    "\n",
    "# define the path (define the lyric folder then the folder for each artist)\n",
    "path_lyrics = data_location + lyrics_folder\n",
    "\n",
    "# see https://stackoverflow.com/questions/3207219/how-do-i-list-all-files-of-a-directory\n",
    "path_lyrics_artist = [f for f in os.listdir(path_lyrics) if not f.startswith('.')]\n",
    "\n",
    "# let's append artist, song, and lyrics of each song\n",
    "singer = [] # defined as singer because will probably use artist for loops later\n",
    "song = [] # DON'T FORGET THAT THIS (SINGULAR) IS A LIST\n",
    "lyric = []\n",
    "\n",
    "# first, a loop to go through each artist\n",
    "for artist in path_lyrics_artist:\n",
    "    unique_artist = path_lyrics + '/' + artist\n",
    "    unique_song = os.listdir(unique_artist)\n",
    "    \n",
    "    # now a loop to go through each artist's song\n",
    "    for music in unique_song:\n",
    "        # hidden .DS_Store file needs to be hidden otherwise [Errno 20]\n",
    "        path_songs = unique_artist + '/' + music\n",
    "        # see https://www.adamsmith.haus/python/answers/how-to-read-a-text-file-into-a-list-in-python\n",
    "        with open(path_songs) as the_path:\n",
    "            the_songs = the_path.readlines()\n",
    "            \n",
    "        singer.append(artist)\n",
    "        song.append(the_songs[0])\n",
    "        lyric.append(''.join(the_songs[1:]))"
   ]
  },
  {
   "cell_type": "code",
   "execution_count": 7,
   "id": "9fca8d57",
   "metadata": {},
   "outputs": [
    {
     "data": {
      "text/html": [
       "<div>\n",
       "<style scoped>\n",
       "    .dataframe tbody tr th:only-of-type {\n",
       "        vertical-align: middle;\n",
       "    }\n",
       "\n",
       "    .dataframe tbody tr th {\n",
       "        vertical-align: top;\n",
       "    }\n",
       "\n",
       "    .dataframe thead th {\n",
       "        text-align: right;\n",
       "    }\n",
       "</style>\n",
       "<table border=\"1\" class=\"dataframe\">\n",
       "  <thead>\n",
       "    <tr style=\"text-align: right;\">\n",
       "      <th></th>\n",
       "      <th>artist</th>\n",
       "      <th>song</th>\n",
       "      <th>lyric</th>\n",
       "    </tr>\n",
       "  </thead>\n",
       "  <tbody>\n",
       "    <tr>\n",
       "      <th>0</th>\n",
       "      <td>robyn</td>\n",
       "      <td>\"Include Me Out\"\\n</td>\n",
       "      <td>\\n\\n\\nIt is really very simple\\nJust a single ...</td>\n",
       "    </tr>\n",
       "    <tr>\n",
       "      <th>1</th>\n",
       "      <td>robyn</td>\n",
       "      <td>\"Electric\"\\n</td>\n",
       "      <td>\\n\\n\\nElectric...\\n\\nIt's electric\\nIt's a nat...</td>\n",
       "    </tr>\n",
       "    <tr>\n",
       "      <th>2</th>\n",
       "      <td>robyn</td>\n",
       "      <td>\"Beach 2K20\"\\n</td>\n",
       "      <td>\\n\\n\\n(So you wanna go out?\\nHow you gonna get...</td>\n",
       "    </tr>\n",
       "    <tr>\n",
       "      <th>3</th>\n",
       "      <td>robyn</td>\n",
       "      <td>\"Love Kills\"\\n</td>\n",
       "      <td>\\n\\n\\nIf you're looking for love\\nGet a heart ...</td>\n",
       "    </tr>\n",
       "    <tr>\n",
       "      <th>4</th>\n",
       "      <td>robyn</td>\n",
       "      <td>\"Time Machine\"\\n</td>\n",
       "      <td>\\n\\n\\nHey, what did I do?\\nCan't believe the f...</td>\n",
       "    </tr>\n",
       "  </tbody>\n",
       "</table>\n",
       "</div>"
      ],
      "text/plain": [
       "  artist                song  \\\n",
       "0  robyn  \"Include Me Out\"\\n   \n",
       "1  robyn        \"Electric\"\\n   \n",
       "2  robyn      \"Beach 2K20\"\\n   \n",
       "3  robyn      \"Love Kills\"\\n   \n",
       "4  robyn    \"Time Machine\"\\n   \n",
       "\n",
       "                                               lyric  \n",
       "0  \\n\\n\\nIt is really very simple\\nJust a single ...  \n",
       "1  \\n\\n\\nElectric...\\n\\nIt's electric\\nIt's a nat...  \n",
       "2  \\n\\n\\n(So you wanna go out?\\nHow you gonna get...  \n",
       "3  \\n\\n\\nIf you're looking for love\\nGet a heart ...  \n",
       "4  \\n\\n\\nHey, what did I do?\\nCan't believe the f...  "
      ]
     },
     "execution_count": 7,
     "metadata": {},
     "output_type": "execute_result"
    }
   ],
   "source": [
    "# dataframe to check read in\n",
    "headers = {'artist': singer,\n",
    "          'song': song,\n",
    "          'lyric': lyric}\n",
    "lyric = pd.DataFrame(headers)\n",
    "lyric.head(5)"
   ]
  },
  {
   "cell_type": "code",
   "execution_count": 8,
   "id": "27e7a3eb",
   "metadata": {},
   "outputs": [
    {
     "data": {
      "text/plain": [
       "array(['robyn', 'cher'], dtype=object)"
      ]
     },
     "execution_count": 8,
     "metadata": {},
     "output_type": "execute_result"
    }
   ],
   "source": [
    "# checking if both artists were read\n",
    "lyric.artist.unique()"
   ]
  },
  {
   "cell_type": "code",
   "execution_count": 9,
   "id": "6af427cf",
   "metadata": {},
   "outputs": [
    {
     "data": {
      "text/html": [
       "<div>\n",
       "<style scoped>\n",
       "    .dataframe tbody tr th:only-of-type {\n",
       "        vertical-align: middle;\n",
       "    }\n",
       "\n",
       "    .dataframe tbody tr th {\n",
       "        vertical-align: top;\n",
       "    }\n",
       "\n",
       "    .dataframe thead th {\n",
       "        text-align: right;\n",
       "    }\n",
       "</style>\n",
       "<table border=\"1\" class=\"dataframe\">\n",
       "  <thead>\n",
       "    <tr style=\"text-align: right;\">\n",
       "      <th></th>\n",
       "      <th>artist</th>\n",
       "      <th>song</th>\n",
       "      <th>lyric</th>\n",
       "    </tr>\n",
       "  </thead>\n",
       "  <tbody>\n",
       "    <tr>\n",
       "      <th>0</th>\n",
       "      <td>robyn</td>\n",
       "      <td>\"Include Me Out\"</td>\n",
       "      <td>It is really very simple Just a single puls...</td>\n",
       "    </tr>\n",
       "    <tr>\n",
       "      <th>1</th>\n",
       "      <td>robyn</td>\n",
       "      <td>\"Electric\"</td>\n",
       "      <td>Electric...  It's electric It's a natural h...</td>\n",
       "    </tr>\n",
       "    <tr>\n",
       "      <th>2</th>\n",
       "      <td>robyn</td>\n",
       "      <td>\"Beach 2K20\"</td>\n",
       "      <td>(So you wanna go out? How you gonna get the...</td>\n",
       "    </tr>\n",
       "    <tr>\n",
       "      <th>3</th>\n",
       "      <td>robyn</td>\n",
       "      <td>\"Love Kills\"</td>\n",
       "      <td>If you're looking for love Get a heart made...</td>\n",
       "    </tr>\n",
       "    <tr>\n",
       "      <th>4</th>\n",
       "      <td>robyn</td>\n",
       "      <td>\"Time Machine\"</td>\n",
       "      <td>Hey, what did I do? Can't believe the fit I...</td>\n",
       "    </tr>\n",
       "  </tbody>\n",
       "</table>\n",
       "</div>"
      ],
      "text/plain": [
       "  artist               song                                              lyric\n",
       "0  robyn  \"Include Me Out\"      It is really very simple Just a single puls...\n",
       "1  robyn        \"Electric\"      Electric...  It's electric It's a natural h...\n",
       "2  robyn      \"Beach 2K20\"      (So you wanna go out? How you gonna get the...\n",
       "3  robyn      \"Love Kills\"      If you're looking for love Get a heart made...\n",
       "4  robyn    \"Time Machine\"      Hey, what did I do? Can't believe the fit I..."
      ]
     },
     "execution_count": 9,
     "metadata": {},
     "output_type": "execute_result"
    }
   ],
   "source": [
    "# remove \\n or tabs\n",
    "lyric = lyric.replace(r'\\n', ' ', regex=True)\n",
    "lyric.head(5)"
   ]
  },
  {
   "cell_type": "code",
   "execution_count": 10,
   "id": "debcac5a",
   "metadata": {},
   "outputs": [
    {
     "name": "stderr",
     "output_type": "stream",
     "text": [
      "<ipython-input-10-527c880cbec0>:3: ParserWarning: Falling back to the 'python' engine because the 'c' engine does not support regex separators (separators > 1 char and different from '\\s+' are interpreted as regex); you can avoid this warning by specifying engine='python'.\n",
      "  cher_twitter = pd.read_csv('/Users/evachow/Documents/USD/ADS509/Module2/M1_Results/twitter/cher_followers_data.txt', sep='\\t+')\n"
     ]
    }
   ],
   "source": [
    "# Read in the twitter data\n",
    "# we only need the descriptions, will use pandas\n",
    "cher_twitter = pd.read_csv('/Users/evachow/Documents/USD/ADS509/Module2/M1_Results/twitter/cher_followers_data.txt', sep='\\t+')"
   ]
  },
  {
   "cell_type": "code",
   "execution_count": 11,
   "id": "95334a41",
   "metadata": {},
   "outputs": [
    {
     "data": {
      "text/html": [
       "<div>\n",
       "<style scoped>\n",
       "    .dataframe tbody tr th:only-of-type {\n",
       "        vertical-align: middle;\n",
       "    }\n",
       "\n",
       "    .dataframe tbody tr th {\n",
       "        vertical-align: top;\n",
       "    }\n",
       "\n",
       "    .dataframe thead th {\n",
       "        text-align: right;\n",
       "    }\n",
       "</style>\n",
       "<table border=\"1\" class=\"dataframe\">\n",
       "  <thead>\n",
       "    <tr style=\"text-align: right;\">\n",
       "      <th></th>\n",
       "      <th>screen_name</th>\n",
       "      <th>name</th>\n",
       "      <th>id</th>\n",
       "      <th>location</th>\n",
       "      <th>followers_count</th>\n",
       "      <th>friends_count</th>\n",
       "      <th>description</th>\n",
       "    </tr>\n",
       "  </thead>\n",
       "  <tbody>\n",
       "    <tr>\n",
       "      <th>0</th>\n",
       "      <td>hsmcnp</td>\n",
       "      <td>Country Girl</td>\n",
       "      <td>35152213</td>\n",
       "      <td>1302</td>\n",
       "      <td>1014</td>\n",
       "      <td>None</td>\n",
       "      <td>None</td>\n",
       "    </tr>\n",
       "    <tr>\n",
       "      <th>1</th>\n",
       "      <td>horrormomy</td>\n",
       "      <td>Jeny</td>\n",
       "      <td>742153090850164742</td>\n",
       "      <td>Earth</td>\n",
       "      <td>81</td>\n",
       "      <td>514</td>\n",
       "      <td>𝙿𝚛𝚘𝚞𝚍 𝚜𝚞𝚙𝚙𝚘𝚛𝚝𝚎𝚛 𝚘𝚏 𝚖𝚎𝚜𝚜𝚢 𝚋𝚞𝚗𝚜 &amp; 𝚕𝚎𝚐𝚐𝚒𝚗𝚐𝚜</td>\n",
       "    </tr>\n",
       "    <tr>\n",
       "      <th>2</th>\n",
       "      <td>anju79990584</td>\n",
       "      <td>anju</td>\n",
       "      <td>1496463006451974150</td>\n",
       "      <td>13</td>\n",
       "      <td>140</td>\n",
       "      <td>163㎝／愛かっぷ💜26歳🍒 工〇好きな女の子💓 フォローしてくれたらDMします🧡</td>\n",
       "      <td>None</td>\n",
       "    </tr>\n",
       "    <tr>\n",
       "      <th>3</th>\n",
       "      <td>gallionjenna</td>\n",
       "      <td>J</td>\n",
       "      <td>3366479914</td>\n",
       "      <td>752</td>\n",
       "      <td>556</td>\n",
       "      <td>csu</td>\n",
       "      <td>None</td>\n",
       "    </tr>\n",
       "    <tr>\n",
       "      <th>4</th>\n",
       "      <td>bcscomm</td>\n",
       "      <td>bcscomm</td>\n",
       "      <td>83915043</td>\n",
       "      <td>Washington, DC</td>\n",
       "      <td>888</td>\n",
       "      <td>2891</td>\n",
       "      <td>Writer @Washinformer @SpelmanCollege alumna #D...</td>\n",
       "    </tr>\n",
       "  </tbody>\n",
       "</table>\n",
       "</div>"
      ],
      "text/plain": [
       "    screen_name          name                   id        location  \\\n",
       "0        hsmcnp  Country Girl             35152213            1302   \n",
       "1    horrormomy          Jeny   742153090850164742           Earth   \n",
       "2  anju79990584          anju  1496463006451974150              13   \n",
       "3  gallionjenna             J           3366479914             752   \n",
       "4       bcscomm       bcscomm             83915043  Washington, DC   \n",
       "\n",
       "  followers_count                              friends_count  \\\n",
       "0            1014                                       None   \n",
       "1              81                                        514   \n",
       "2             140  163㎝／愛かっぷ💜26歳🍒 工〇好きな女の子💓 フォローしてくれたらDMします🧡   \n",
       "3             556                                        csu   \n",
       "4             888                                       2891   \n",
       "\n",
       "                                         description  \n",
       "0                                               None  \n",
       "1           𝙿𝚛𝚘𝚞𝚍 𝚜𝚞𝚙𝚙𝚘𝚛𝚝𝚎𝚛 𝚘𝚏 𝚖𝚎𝚜𝚜𝚢 𝚋𝚞𝚗𝚜 & 𝚕𝚎𝚐𝚐𝚒𝚗𝚐𝚜  \n",
       "2                                               None  \n",
       "3                                               None  \n",
       "4  Writer @Washinformer @SpelmanCollege alumna #D...  "
      ]
     },
     "execution_count": 11,
     "metadata": {},
     "output_type": "execute_result"
    }
   ],
   "source": [
    "cher_twitter.head(5)"
   ]
  },
  {
   "cell_type": "code",
   "execution_count": 12,
   "id": "39eb1220",
   "metadata": {},
   "outputs": [
    {
     "data": {
      "text/html": [
       "<div>\n",
       "<style scoped>\n",
       "    .dataframe tbody tr th:only-of-type {\n",
       "        vertical-align: middle;\n",
       "    }\n",
       "\n",
       "    .dataframe tbody tr th {\n",
       "        vertical-align: top;\n",
       "    }\n",
       "\n",
       "    .dataframe thead th {\n",
       "        text-align: right;\n",
       "    }\n",
       "</style>\n",
       "<table border=\"1\" class=\"dataframe\">\n",
       "  <thead>\n",
       "    <tr style=\"text-align: right;\">\n",
       "      <th></th>\n",
       "      <th>artist</th>\n",
       "      <th>description</th>\n",
       "    </tr>\n",
       "  </thead>\n",
       "  <tbody>\n",
       "    <tr>\n",
       "      <th>0</th>\n",
       "      <td>cher</td>\n",
       "      <td>None</td>\n",
       "    </tr>\n",
       "    <tr>\n",
       "      <th>1</th>\n",
       "      <td>cher</td>\n",
       "      <td>𝙿𝚛𝚘𝚞𝚍 𝚜𝚞𝚙𝚙𝚘𝚛𝚝𝚎𝚛 𝚘𝚏 𝚖𝚎𝚜𝚜𝚢 𝚋𝚞𝚗𝚜 &amp; 𝚕𝚎𝚐𝚐𝚒𝚗𝚐𝚜</td>\n",
       "    </tr>\n",
       "    <tr>\n",
       "      <th>2</th>\n",
       "      <td>cher</td>\n",
       "      <td>None</td>\n",
       "    </tr>\n",
       "    <tr>\n",
       "      <th>3</th>\n",
       "      <td>cher</td>\n",
       "      <td>None</td>\n",
       "    </tr>\n",
       "    <tr>\n",
       "      <th>4</th>\n",
       "      <td>cher</td>\n",
       "      <td>Writer @Washinformer @SpelmanCollege alumna #D...</td>\n",
       "    </tr>\n",
       "  </tbody>\n",
       "</table>\n",
       "</div>"
      ],
      "text/plain": [
       "  artist                                        description\n",
       "0   cher                                               None\n",
       "1   cher           𝙿𝚛𝚘𝚞𝚍 𝚜𝚞𝚙𝚙𝚘𝚛𝚝𝚎𝚛 𝚘𝚏 𝚖𝚎𝚜𝚜𝚢 𝚋𝚞𝚗𝚜 & 𝚕𝚎𝚐𝚐𝚒𝚗𝚐𝚜\n",
       "2   cher                                               None\n",
       "3   cher                                               None\n",
       "4   cher  Writer @Washinformer @SpelmanCollege alumna #D..."
      ]
     },
     "execution_count": 12,
     "metadata": {},
     "output_type": "execute_result"
    }
   ],
   "source": [
    "# let's get only the descriptions\n",
    "cher_twitter['artist'] = 'cher'\n",
    "cher_twitter = cher_twitter[['artist', 'description']]\n",
    "cher_twitter.head(5)"
   ]
  },
  {
   "cell_type": "code",
   "execution_count": 13,
   "id": "378051b4",
   "metadata": {},
   "outputs": [
    {
     "name": "stderr",
     "output_type": "stream",
     "text": [
      "<ipython-input-13-65da7644b2a4>:1: ParserWarning: Falling back to the 'python' engine because the 'c' engine does not support regex separators (separators > 1 char and different from '\\s+' are interpreted as regex); you can avoid this warning by specifying engine='python'.\n",
      "  robyn_twitter = pd.read_csv('/Users/evachow/Documents/USD/ADS509/Module2/M1_Results/twitter/robynkonichiwa_followers_data.txt', sep='\\t+')\n"
     ]
    }
   ],
   "source": [
    "robyn_twitter = pd.read_csv('/Users/evachow/Documents/USD/ADS509/Module2/M1_Results/twitter/robynkonichiwa_followers_data.txt', sep='\\t+')"
   ]
  },
  {
   "cell_type": "code",
   "execution_count": 14,
   "id": "2876bae8",
   "metadata": {},
   "outputs": [
    {
     "data": {
      "text/html": [
       "<div>\n",
       "<style scoped>\n",
       "    .dataframe tbody tr th:only-of-type {\n",
       "        vertical-align: middle;\n",
       "    }\n",
       "\n",
       "    .dataframe tbody tr th {\n",
       "        vertical-align: top;\n",
       "    }\n",
       "\n",
       "    .dataframe thead th {\n",
       "        text-align: right;\n",
       "    }\n",
       "</style>\n",
       "<table border=\"1\" class=\"dataframe\">\n",
       "  <thead>\n",
       "    <tr style=\"text-align: right;\">\n",
       "      <th></th>\n",
       "      <th>screen_name</th>\n",
       "      <th>name</th>\n",
       "      <th>id</th>\n",
       "      <th>location</th>\n",
       "      <th>followers_count</th>\n",
       "      <th>friends_count</th>\n",
       "      <th>description</th>\n",
       "    </tr>\n",
       "  </thead>\n",
       "  <tbody>\n",
       "    <tr>\n",
       "      <th>0</th>\n",
       "      <td>AngelxoArts</td>\n",
       "      <td>Angelxo</td>\n",
       "      <td>1424055675030806529</td>\n",
       "      <td>Zacatlan, Puebla, Mexico</td>\n",
       "      <td>29</td>\n",
       "      <td>535</td>\n",
       "      <td>\"I love chill\" •Facebook / Instagram / SoundCl...</td>\n",
       "    </tr>\n",
       "    <tr>\n",
       "      <th>1</th>\n",
       "      <td>songsfornikola</td>\n",
       "      <td>johnny</td>\n",
       "      <td>1502717352575651840</td>\n",
       "      <td>6</td>\n",
       "      <td>318</td>\n",
       "      <td>books, movies, music, nature &amp; TV shows. OG Sw...</td>\n",
       "      <td>None</td>\n",
       "    </tr>\n",
       "    <tr>\n",
       "      <th>2</th>\n",
       "      <td>thibaud_lola</td>\n",
       "      <td>Thibaud Lola</td>\n",
       "      <td>1502407708246478852</td>\n",
       "      <td>3</td>\n",
       "      <td>69</td>\n",
       "      <td>(Am)auteur en herbe 🌱 - juriste en paille 🤡 - ...</td>\n",
       "      <td>None</td>\n",
       "    </tr>\n",
       "    <tr>\n",
       "      <th>3</th>\n",
       "      <td>KyleSew2112</td>\n",
       "      <td>Kyle S 🌹🇬🇧🇺🇦</td>\n",
       "      <td>3423966821</td>\n",
       "      <td>South East London</td>\n",
       "      <td>1258</td>\n",
       "      <td>3444</td>\n",
       "      <td>This Twitter profile is full of sarcasm and ra...</td>\n",
       "    </tr>\n",
       "    <tr>\n",
       "      <th>4</th>\n",
       "      <td>MusiFlo</td>\n",
       "      <td>MusiFlo</td>\n",
       "      <td>3324069364</td>\n",
       "      <td>Canada</td>\n",
       "      <td>470</td>\n",
       "      <td>1706</td>\n",
       "      <td>Flora Youssef - Blogger &amp; Founder Posting revi...</td>\n",
       "    </tr>\n",
       "  </tbody>\n",
       "</table>\n",
       "</div>"
      ],
      "text/plain": [
       "      screen_name          name                   id  \\\n",
       "0     AngelxoArts       Angelxo  1424055675030806529   \n",
       "1  songsfornikola        johnny  1502717352575651840   \n",
       "2    thibaud_lola  Thibaud Lola  1502407708246478852   \n",
       "3     KyleSew2112  Kyle S 🌹🇬🇧🇺🇦           3423966821   \n",
       "4         MusiFlo       MusiFlo           3324069364   \n",
       "\n",
       "                   location followers_count  \\\n",
       "0  Zacatlan, Puebla, Mexico              29   \n",
       "1                         6             318   \n",
       "2                         3              69   \n",
       "3         South East London            1258   \n",
       "4                    Canada             470   \n",
       "\n",
       "                                       friends_count  \\\n",
       "0                                                535   \n",
       "1  books, movies, music, nature & TV shows. OG Sw...   \n",
       "2  (Am)auteur en herbe 🌱 - juriste en paille 🤡 - ...   \n",
       "3                                               3444   \n",
       "4                                               1706   \n",
       "\n",
       "                                         description  \n",
       "0  \"I love chill\" •Facebook / Instagram / SoundCl...  \n",
       "1                                               None  \n",
       "2                                               None  \n",
       "3  This Twitter profile is full of sarcasm and ra...  \n",
       "4  Flora Youssef - Blogger & Founder Posting revi...  "
      ]
     },
     "execution_count": 14,
     "metadata": {},
     "output_type": "execute_result"
    }
   ],
   "source": [
    "robyn_twitter.head(5)"
   ]
  },
  {
   "cell_type": "code",
   "execution_count": 15,
   "id": "db32823f",
   "metadata": {},
   "outputs": [
    {
     "data": {
      "text/html": [
       "<div>\n",
       "<style scoped>\n",
       "    .dataframe tbody tr th:only-of-type {\n",
       "        vertical-align: middle;\n",
       "    }\n",
       "\n",
       "    .dataframe tbody tr th {\n",
       "        vertical-align: top;\n",
       "    }\n",
       "\n",
       "    .dataframe thead th {\n",
       "        text-align: right;\n",
       "    }\n",
       "</style>\n",
       "<table border=\"1\" class=\"dataframe\">\n",
       "  <thead>\n",
       "    <tr style=\"text-align: right;\">\n",
       "      <th></th>\n",
       "      <th>artist</th>\n",
       "      <th>description</th>\n",
       "    </tr>\n",
       "  </thead>\n",
       "  <tbody>\n",
       "    <tr>\n",
       "      <th>0</th>\n",
       "      <td>robyn</td>\n",
       "      <td>\"I love chill\" •Facebook / Instagram / SoundCl...</td>\n",
       "    </tr>\n",
       "    <tr>\n",
       "      <th>1</th>\n",
       "      <td>robyn</td>\n",
       "      <td>None</td>\n",
       "    </tr>\n",
       "    <tr>\n",
       "      <th>2</th>\n",
       "      <td>robyn</td>\n",
       "      <td>None</td>\n",
       "    </tr>\n",
       "    <tr>\n",
       "      <th>3</th>\n",
       "      <td>robyn</td>\n",
       "      <td>This Twitter profile is full of sarcasm and ra...</td>\n",
       "    </tr>\n",
       "    <tr>\n",
       "      <th>4</th>\n",
       "      <td>robyn</td>\n",
       "      <td>Flora Youssef - Blogger &amp; Founder Posting revi...</td>\n",
       "    </tr>\n",
       "  </tbody>\n",
       "</table>\n",
       "</div>"
      ],
      "text/plain": [
       "  artist                                        description\n",
       "0  robyn  \"I love chill\" •Facebook / Instagram / SoundCl...\n",
       "1  robyn                                               None\n",
       "2  robyn                                               None\n",
       "3  robyn  This Twitter profile is full of sarcasm and ra...\n",
       "4  robyn  Flora Youssef - Blogger & Founder Posting revi..."
      ]
     },
     "execution_count": 15,
     "metadata": {},
     "output_type": "execute_result"
    }
   ],
   "source": [
    "robyn_twitter['artist'] = 'robyn'\n",
    "robyn_twitter = robyn_twitter[['artist', 'description']]\n",
    "robyn_twitter.head(5)"
   ]
  },
  {
   "cell_type": "code",
   "execution_count": 16,
   "id": "f63c9783",
   "metadata": {},
   "outputs": [],
   "source": [
    "# using pandas, concatenate both twitter dataframes into one\n",
    "dataframes = [cher_twitter, robyn_twitter]\n",
    "twitter = pd.concat(dataframes)"
   ]
  },
  {
   "cell_type": "code",
   "execution_count": 17,
   "id": "eca83989",
   "metadata": {},
   "outputs": [
    {
     "data": {
      "text/html": [
       "<div>\n",
       "<style scoped>\n",
       "    .dataframe tbody tr th:only-of-type {\n",
       "        vertical-align: middle;\n",
       "    }\n",
       "\n",
       "    .dataframe tbody tr th {\n",
       "        vertical-align: top;\n",
       "    }\n",
       "\n",
       "    .dataframe thead th {\n",
       "        text-align: right;\n",
       "    }\n",
       "</style>\n",
       "<table border=\"1\" class=\"dataframe\">\n",
       "  <thead>\n",
       "    <tr style=\"text-align: right;\">\n",
       "      <th></th>\n",
       "      <th>artist</th>\n",
       "      <th>description</th>\n",
       "    </tr>\n",
       "  </thead>\n",
       "  <tbody>\n",
       "    <tr>\n",
       "      <th>0</th>\n",
       "      <td>cher</td>\n",
       "      <td>None</td>\n",
       "    </tr>\n",
       "    <tr>\n",
       "      <th>1</th>\n",
       "      <td>cher</td>\n",
       "      <td>𝙿𝚛𝚘𝚞𝚍 𝚜𝚞𝚙𝚙𝚘𝚛𝚝𝚎𝚛 𝚘𝚏 𝚖𝚎𝚜𝚜𝚢 𝚋𝚞𝚗𝚜 &amp; 𝚕𝚎𝚐𝚐𝚒𝚗𝚐𝚜</td>\n",
       "    </tr>\n",
       "    <tr>\n",
       "      <th>2</th>\n",
       "      <td>cher</td>\n",
       "      <td>None</td>\n",
       "    </tr>\n",
       "    <tr>\n",
       "      <th>3</th>\n",
       "      <td>cher</td>\n",
       "      <td>None</td>\n",
       "    </tr>\n",
       "    <tr>\n",
       "      <th>4</th>\n",
       "      <td>cher</td>\n",
       "      <td>Writer @Washinformer @SpelmanCollege alumna #D...</td>\n",
       "    </tr>\n",
       "  </tbody>\n",
       "</table>\n",
       "</div>"
      ],
      "text/plain": [
       "  artist                                        description\n",
       "0   cher                                               None\n",
       "1   cher           𝙿𝚛𝚘𝚞𝚍 𝚜𝚞𝚙𝚙𝚘𝚛𝚝𝚎𝚛 𝚘𝚏 𝚖𝚎𝚜𝚜𝚢 𝚋𝚞𝚗𝚜 & 𝚕𝚎𝚐𝚐𝚒𝚗𝚐𝚜\n",
       "2   cher                                               None\n",
       "3   cher                                               None\n",
       "4   cher  Writer @Washinformer @SpelmanCollege alumna #D..."
      ]
     },
     "execution_count": 17,
     "metadata": {},
     "output_type": "execute_result"
    }
   ],
   "source": [
    "twitter.head(5)"
   ]
  },
  {
   "cell_type": "markdown",
   "id": "6a5f3b12",
   "metadata": {},
   "source": [
    "## Data Cleaning\n",
    "\n",
    "Now clean and tokenize your data. Remove punctuation chacters (available in the `punctuation` object in the `string` library), split on whitespace, fold to lowercase, and remove stopwords. Store your cleaned data, which must be accessible as an interable for `descriptive_stats`, in new objects or in new columns in your data frame. \n",
    "\n"
   ]
  },
  {
   "cell_type": "code",
   "execution_count": 18,
   "id": "917b9ce4",
   "metadata": {},
   "outputs": [
    {
     "name": "stdout",
     "output_type": "stream",
     "text": [
      "!\"#$%&'()*+,-./:;<=>?@[\\]^_`{|}~\n"
     ]
    }
   ],
   "source": [
    "print(string.punctuation)"
   ]
  },
  {
   "cell_type": "code",
   "execution_count": 19,
   "id": "71c73d86",
   "metadata": {},
   "outputs": [],
   "source": [
    "punctuation = set(punctuation) # speeds up comparison"
   ]
  },
  {
   "cell_type": "code",
   "execution_count": 20,
   "id": "b327033a",
   "metadata": {},
   "outputs": [],
   "source": [
    "# create your clean twitter data here\n",
    "\n",
    "# remove punctuation\n",
    "\n",
    "# let's define a function to remove punctuations\n",
    "def no_punctuations(desc):\n",
    "    for punctuation in string.punctuation:\n",
    "        desc = desc.replace(punctuation, '')\n",
    "    return desc\n",
    "\n",
    "# convert descriptions to string\n",
    "twitter['no_punc'] = twitter['description'].astype(str)\n",
    "twitter['no_punc'] = twitter['no_punc'].apply(no_punctuations)"
   ]
  },
  {
   "cell_type": "code",
   "execution_count": 21,
   "id": "5a2f248e",
   "metadata": {},
   "outputs": [],
   "source": [
    "# split on whitespace\n",
    "twitter['whitespace'] = twitter['no_punc'].str.replace('\\n', ' ')"
   ]
  },
  {
   "cell_type": "code",
   "execution_count": 22,
   "id": "3fd8b0b4",
   "metadata": {},
   "outputs": [],
   "source": [
    "# fold to lowercase\n",
    "# see https://www.programiz.com/python-programming/methods/string/casefold\n",
    "twitter['lowercase'] = twitter['whitespace'].str.casefold()"
   ]
  },
  {
   "cell_type": "code",
   "execution_count": 23,
   "id": "b02eb8e4",
   "metadata": {},
   "outputs": [],
   "source": [
    "# remove stopwords\n",
    "# see https://stackoverflow.com/questions/29523254/python-remove-stop-words-from-pandas-dataframe\n",
    "stops = set(stopwords.words(\"english\"))\n",
    "twitter['use_words'] = twitter['lowercase'].apply(lambda x: ' '.join([word for word in x.split() if word not in stops]))"
   ]
  },
  {
   "cell_type": "code",
   "execution_count": 24,
   "id": "16fa36bf",
   "metadata": {},
   "outputs": [
    {
     "data": {
      "text/html": [
       "<div>\n",
       "<style scoped>\n",
       "    .dataframe tbody tr th:only-of-type {\n",
       "        vertical-align: middle;\n",
       "    }\n",
       "\n",
       "    .dataframe tbody tr th {\n",
       "        vertical-align: top;\n",
       "    }\n",
       "\n",
       "    .dataframe thead th {\n",
       "        text-align: right;\n",
       "    }\n",
       "</style>\n",
       "<table border=\"1\" class=\"dataframe\">\n",
       "  <thead>\n",
       "    <tr style=\"text-align: right;\">\n",
       "      <th></th>\n",
       "      <th>artist</th>\n",
       "      <th>description</th>\n",
       "      <th>no_punc</th>\n",
       "      <th>whitespace</th>\n",
       "      <th>lowercase</th>\n",
       "      <th>use_words</th>\n",
       "    </tr>\n",
       "  </thead>\n",
       "  <tbody>\n",
       "    <tr>\n",
       "      <th>358362</th>\n",
       "      <td>robyn</td>\n",
       "      <td>None</td>\n",
       "      <td>None</td>\n",
       "      <td>None</td>\n",
       "      <td>none</td>\n",
       "      <td>none</td>\n",
       "    </tr>\n",
       "    <tr>\n",
       "      <th>358363</th>\n",
       "      <td>robyn</td>\n",
       "      <td>None</td>\n",
       "      <td>None</td>\n",
       "      <td>None</td>\n",
       "      <td>none</td>\n",
       "      <td>none</td>\n",
       "    </tr>\n",
       "    <tr>\n",
       "      <th>358364</th>\n",
       "      <td>robyn</td>\n",
       "      <td>still not grown up....</td>\n",
       "      <td>still not grown up</td>\n",
       "      <td>still not grown up</td>\n",
       "      <td>still not grown up</td>\n",
       "      <td>still grown</td>\n",
       "    </tr>\n",
       "    <tr>\n",
       "      <th>358365</th>\n",
       "      <td>robyn</td>\n",
       "      <td>person, she/her.</td>\n",
       "      <td>person sheher</td>\n",
       "      <td>person sheher</td>\n",
       "      <td>person sheher</td>\n",
       "      <td>person sheher</td>\n",
       "    </tr>\n",
       "    <tr>\n",
       "      <th>358366</th>\n",
       "      <td>robyn</td>\n",
       "      <td>To fear love is to fear life.</td>\n",
       "      <td>To fear love is to fear life</td>\n",
       "      <td>To fear love is to fear life</td>\n",
       "      <td>to fear love is to fear life</td>\n",
       "      <td>fear love fear life</td>\n",
       "    </tr>\n",
       "    <tr>\n",
       "      <th>358367</th>\n",
       "      <td>robyn</td>\n",
       "      <td>singer of songs, type 1 diabetic, tired $jakel...</td>\n",
       "      <td>singer of songs type 1 diabetic tired jakelgil...</td>\n",
       "      <td>singer of songs type 1 diabetic tired jakelgil...</td>\n",
       "      <td>singer of songs type 1 diabetic tired jakelgil...</td>\n",
       "      <td>singer songs type 1 diabetic tired jakelgiles ...</td>\n",
       "    </tr>\n",
       "    <tr>\n",
       "      <th>358368</th>\n",
       "      <td>robyn</td>\n",
       "      <td>Dadx2/ Con-Arch/ Photographer/ DK #stemgrønnes...</td>\n",
       "      <td>Dadx2 ConArch Photographer DK stemgrønnest grø...</td>\n",
       "      <td>Dadx2 ConArch Photographer DK stemgrønnest grø...</td>\n",
       "      <td>dadx2 conarch photographer dk stemgrønnest grø...</td>\n",
       "      <td>dadx2 conarch photographer dk stemgrønnest grø...</td>\n",
       "    </tr>\n",
       "    <tr>\n",
       "      <th>358369</th>\n",
       "      <td>robyn</td>\n",
       "      <td>A year to change a life is still a year ✨😌</td>\n",
       "      <td>A year to change a life is still a year ✨😌</td>\n",
       "      <td>A year to change a life is still a year ✨😌</td>\n",
       "      <td>a year to change a life is still a year ✨😌</td>\n",
       "      <td>year change life still year ✨😌</td>\n",
       "    </tr>\n",
       "    <tr>\n",
       "      <th>358370</th>\n",
       "      <td>robyn</td>\n",
       "      <td>Head of Consumer - Mango. Made in Melbourne. R...</td>\n",
       "      <td>Head of Consumer  Mango Made in Melbourne Ramb...</td>\n",
       "      <td>Head of Consumer  Mango Made in Melbourne Ramb...</td>\n",
       "      <td>head of consumer  mango made in melbourne ramb...</td>\n",
       "      <td>head consumer mango made melbourne ramblings</td>\n",
       "    </tr>\n",
       "    <tr>\n",
       "      <th>358371</th>\n",
       "      <td>robyn</td>\n",
       "      <td>Stand for what is right, even if you stand alone.</td>\n",
       "      <td>Stand for what is right even if you stand alone</td>\n",
       "      <td>Stand for what is right even if you stand alone</td>\n",
       "      <td>stand for what is right even if you stand alone</td>\n",
       "      <td>stand right even stand alone</td>\n",
       "    </tr>\n",
       "  </tbody>\n",
       "</table>\n",
       "</div>"
      ],
      "text/plain": [
       "       artist                                        description  \\\n",
       "358362  robyn                                               None   \n",
       "358363  robyn                                               None   \n",
       "358364  robyn                             still not grown up....   \n",
       "358365  robyn                                   person, she/her.   \n",
       "358366  robyn                      To fear love is to fear life.   \n",
       "358367  robyn  singer of songs, type 1 diabetic, tired $jakel...   \n",
       "358368  robyn  Dadx2/ Con-Arch/ Photographer/ DK #stemgrønnes...   \n",
       "358369  robyn         A year to change a life is still a year ✨😌   \n",
       "358370  robyn  Head of Consumer - Mango. Made in Melbourne. R...   \n",
       "358371  robyn  Stand for what is right, even if you stand alone.   \n",
       "\n",
       "                                                  no_punc  \\\n",
       "358362                                               None   \n",
       "358363                                               None   \n",
       "358364                                 still not grown up   \n",
       "358365                                      person sheher   \n",
       "358366                       To fear love is to fear life   \n",
       "358367  singer of songs type 1 diabetic tired jakelgil...   \n",
       "358368  Dadx2 ConArch Photographer DK stemgrønnest grø...   \n",
       "358369         A year to change a life is still a year ✨😌   \n",
       "358370  Head of Consumer  Mango Made in Melbourne Ramb...   \n",
       "358371    Stand for what is right even if you stand alone   \n",
       "\n",
       "                                               whitespace  \\\n",
       "358362                                               None   \n",
       "358363                                               None   \n",
       "358364                                 still not grown up   \n",
       "358365                                      person sheher   \n",
       "358366                       To fear love is to fear life   \n",
       "358367  singer of songs type 1 diabetic tired jakelgil...   \n",
       "358368  Dadx2 ConArch Photographer DK stemgrønnest grø...   \n",
       "358369         A year to change a life is still a year ✨😌   \n",
       "358370  Head of Consumer  Mango Made in Melbourne Ramb...   \n",
       "358371    Stand for what is right even if you stand alone   \n",
       "\n",
       "                                                lowercase  \\\n",
       "358362                                               none   \n",
       "358363                                               none   \n",
       "358364                                 still not grown up   \n",
       "358365                                      person sheher   \n",
       "358366                       to fear love is to fear life   \n",
       "358367  singer of songs type 1 diabetic tired jakelgil...   \n",
       "358368  dadx2 conarch photographer dk stemgrønnest grø...   \n",
       "358369         a year to change a life is still a year ✨😌   \n",
       "358370  head of consumer  mango made in melbourne ramb...   \n",
       "358371    stand for what is right even if you stand alone   \n",
       "\n",
       "                                                use_words  \n",
       "358362                                               none  \n",
       "358363                                               none  \n",
       "358364                                        still grown  \n",
       "358365                                      person sheher  \n",
       "358366                                fear love fear life  \n",
       "358367  singer songs type 1 diabetic tired jakelgiles ...  \n",
       "358368  dadx2 conarch photographer dk stemgrønnest grø...  \n",
       "358369                     year change life still year ✨😌  \n",
       "358370       head consumer mango made melbourne ramblings  \n",
       "358371                       stand right even stand alone  "
      ]
     },
     "execution_count": 24,
     "metadata": {},
     "output_type": "execute_result"
    }
   ],
   "source": [
    "twitter.tail(10)"
   ]
  },
  {
   "cell_type": "code",
   "execution_count": 25,
   "id": "e0f22e10",
   "metadata": {},
   "outputs": [],
   "source": [
    "# create your clean lyrics data here\n",
    "\n",
    "# we'll follow the same steps as above\n",
    "\n",
    "# convert lyrics to string\n",
    "lyric['no_punc'] = lyric['lyric'].astype(str)\n",
    "lyric['no_punc'] = lyric['no_punc'].apply(no_punctuations)"
   ]
  },
  {
   "cell_type": "code",
   "execution_count": 26,
   "id": "d3fca3ad",
   "metadata": {},
   "outputs": [],
   "source": [
    "# split on whitespace\n",
    "lyric['whitespace'] = lyric['no_punc'].str.replace('\\n', ' ')"
   ]
  },
  {
   "cell_type": "code",
   "execution_count": 27,
   "id": "c58322f3",
   "metadata": {},
   "outputs": [],
   "source": [
    "# fold to lowercase\n",
    "# see https://www.programiz.com/python-programming/methods/string/casefold\n",
    "lyric['lowercase'] = lyric['whitespace'].str.casefold()"
   ]
  },
  {
   "cell_type": "code",
   "execution_count": 28,
   "id": "f661489c",
   "metadata": {},
   "outputs": [],
   "source": [
    "# remove stopwords\n",
    "# see https://stackoverflow.com/questions/29523254/python-remove-stop-words-from-pandas-dataframe\n",
    "stops = set(stopwords.words(\"english\"))\n",
    "lyric['use_words'] = lyric['lowercase'].apply(lambda x: ' '.join([word for word in x.split() if word not in stops]))"
   ]
  },
  {
   "cell_type": "code",
   "execution_count": 29,
   "id": "938a09f4",
   "metadata": {},
   "outputs": [
    {
     "data": {
      "text/html": [
       "<div>\n",
       "<style scoped>\n",
       "    .dataframe tbody tr th:only-of-type {\n",
       "        vertical-align: middle;\n",
       "    }\n",
       "\n",
       "    .dataframe tbody tr th {\n",
       "        vertical-align: top;\n",
       "    }\n",
       "\n",
       "    .dataframe thead th {\n",
       "        text-align: right;\n",
       "    }\n",
       "</style>\n",
       "<table border=\"1\" class=\"dataframe\">\n",
       "  <thead>\n",
       "    <tr style=\"text-align: right;\">\n",
       "      <th></th>\n",
       "      <th>artist</th>\n",
       "      <th>song</th>\n",
       "      <th>lyric</th>\n",
       "      <th>no_punc</th>\n",
       "      <th>whitespace</th>\n",
       "      <th>lowercase</th>\n",
       "      <th>use_words</th>\n",
       "    </tr>\n",
       "  </thead>\n",
       "  <tbody>\n",
       "    <tr>\n",
       "      <th>410</th>\n",
       "      <td>cher</td>\n",
       "      <td>\"I Walk Alone\"</td>\n",
       "      <td>There's a poet in me that remembers And the...</td>\n",
       "      <td>Theres a poet in me that remembers And ther...</td>\n",
       "      <td>Theres a poet in me that remembers And ther...</td>\n",
       "      <td>theres a poet in me that remembers and ther...</td>\n",
       "      <td>theres poet remembers theres honesty every wor...</td>\n",
       "    </tr>\n",
       "    <tr>\n",
       "      <th>411</th>\n",
       "      <td>cher</td>\n",
       "      <td>\"Lie To Me\"</td>\n",
       "      <td>Hmmm...  Oh, fuck, just lie to me Tell me s...</td>\n",
       "      <td>Hmmm  Oh fuck just lie to me Tell me someth...</td>\n",
       "      <td>Hmmm  Oh fuck just lie to me Tell me someth...</td>\n",
       "      <td>hmmm  oh fuck just lie to me tell me someth...</td>\n",
       "      <td>hmmm oh fuck lie tell something sweet till loo...</td>\n",
       "    </tr>\n",
       "    <tr>\n",
       "      <th>412</th>\n",
       "      <td>cher</td>\n",
       "      <td>\"Back On The Street Again\"</td>\n",
       "      <td>I was so lonely until I met you Told myself...</td>\n",
       "      <td>I was so lonely until I met you Told myself...</td>\n",
       "      <td>I was so lonely until I met you Told myself...</td>\n",
       "      <td>i was so lonely until i met you told myself...</td>\n",
       "      <td>lonely met told id get without love drowning s...</td>\n",
       "    </tr>\n",
       "    <tr>\n",
       "      <th>413</th>\n",
       "      <td>cher</td>\n",
       "      <td>\"Love On A Rooftop\"</td>\n",
       "      <td>We used to talk forever on a dime Now we li...</td>\n",
       "      <td>We used to talk forever on a dime Now we li...</td>\n",
       "      <td>We used to talk forever on a dime Now we li...</td>\n",
       "      <td>we used to talk forever on a dime now we li...</td>\n",
       "      <td>used talk forever dime live together never fin...</td>\n",
       "    </tr>\n",
       "    <tr>\n",
       "      <th>414</th>\n",
       "      <td>cher</td>\n",
       "      <td>\"Hard Enough Getting Over You\"</td>\n",
       "      <td>For the first time, in such a long time I'v...</td>\n",
       "      <td>For the first time in such a long time Ive ...</td>\n",
       "      <td>For the first time in such a long time Ive ...</td>\n",
       "      <td>for the first time in such a long time ive ...</td>\n",
       "      <td>first time long time ive feeling theres reason...</td>\n",
       "    </tr>\n",
       "    <tr>\n",
       "      <th>415</th>\n",
       "      <td>cher</td>\n",
       "      <td>\"Take It From The Boys\"</td>\n",
       "      <td>So scared I never been Too hard to keep it ...</td>\n",
       "      <td>So scared I never been Too hard to keep it ...</td>\n",
       "      <td>So scared I never been Too hard to keep it ...</td>\n",
       "      <td>so scared i never been too hard to keep it ...</td>\n",
       "      <td>scared never hard keep good girl independent c...</td>\n",
       "    </tr>\n",
       "    <tr>\n",
       "      <th>416</th>\n",
       "      <td>cher</td>\n",
       "      <td>\"Dream Baby\"</td>\n",
       "      <td>I found the boy for me He's my dream baby  ...</td>\n",
       "      <td>I found the boy for me Hes my dream baby  H...</td>\n",
       "      <td>I found the boy for me Hes my dream baby  H...</td>\n",
       "      <td>i found the boy for me hes my dream baby  h...</td>\n",
       "      <td>found boy hes dream baby doesnt almost die wal...</td>\n",
       "    </tr>\n",
       "    <tr>\n",
       "      <th>417</th>\n",
       "      <td>cher</td>\n",
       "      <td>\"Please Don't Tell Me\"</td>\n",
       "      <td>Ya shook the override  Why'd I get this far...</td>\n",
       "      <td>Ya shook the override  Whyd I get this far ...</td>\n",
       "      <td>Ya shook the override  Whyd I get this far ...</td>\n",
       "      <td>ya shook the override  whyd i get this far ...</td>\n",
       "      <td>ya shook override whyd get far time ton mean r...</td>\n",
       "    </tr>\n",
       "    <tr>\n",
       "      <th>418</th>\n",
       "      <td>cher</td>\n",
       "      <td>\"I Hope You Find It\"</td>\n",
       "      <td>These clouds aren't going nowhere, darling ...</td>\n",
       "      <td>These clouds arent going nowhere darling Ra...</td>\n",
       "      <td>These clouds arent going nowhere darling Ra...</td>\n",
       "      <td>these clouds arent going nowhere darling ra...</td>\n",
       "      <td>clouds arent going nowhere darling rain keeps ...</td>\n",
       "    </tr>\n",
       "    <tr>\n",
       "      <th>419</th>\n",
       "      <td>cher</td>\n",
       "      <td>\"Classified 1A\"</td>\n",
       "      <td>I know now how much I love you I knew it su...</td>\n",
       "      <td>I know now how much I love you I knew it su...</td>\n",
       "      <td>I know now how much I love you I knew it su...</td>\n",
       "      <td>i know now how much i love you i knew it su...</td>\n",
       "      <td>know much love knew surely saw blood cried wet...</td>\n",
       "    </tr>\n",
       "  </tbody>\n",
       "</table>\n",
       "</div>"
      ],
      "text/plain": [
       "    artist                             song  \\\n",
       "410   cher                  \"I Walk Alone\"    \n",
       "411   cher                     \"Lie To Me\"    \n",
       "412   cher      \"Back On The Street Again\"    \n",
       "413   cher             \"Love On A Rooftop\"    \n",
       "414   cher  \"Hard Enough Getting Over You\"    \n",
       "415   cher         \"Take It From The Boys\"    \n",
       "416   cher                    \"Dream Baby\"    \n",
       "417   cher          \"Please Don't Tell Me\"    \n",
       "418   cher            \"I Hope You Find It\"    \n",
       "419   cher                 \"Classified 1A\"    \n",
       "\n",
       "                                                 lyric  \\\n",
       "410     There's a poet in me that remembers And the...   \n",
       "411     Hmmm...  Oh, fuck, just lie to me Tell me s...   \n",
       "412     I was so lonely until I met you Told myself...   \n",
       "413     We used to talk forever on a dime Now we li...   \n",
       "414     For the first time, in such a long time I'v...   \n",
       "415     So scared I never been Too hard to keep it ...   \n",
       "416     I found the boy for me He's my dream baby  ...   \n",
       "417     Ya shook the override  Why'd I get this far...   \n",
       "418     These clouds aren't going nowhere, darling ...   \n",
       "419     I know now how much I love you I knew it su...   \n",
       "\n",
       "                                               no_punc  \\\n",
       "410     Theres a poet in me that remembers And ther...   \n",
       "411     Hmmm  Oh fuck just lie to me Tell me someth...   \n",
       "412     I was so lonely until I met you Told myself...   \n",
       "413     We used to talk forever on a dime Now we li...   \n",
       "414     For the first time in such a long time Ive ...   \n",
       "415     So scared I never been Too hard to keep it ...   \n",
       "416     I found the boy for me Hes my dream baby  H...   \n",
       "417     Ya shook the override  Whyd I get this far ...   \n",
       "418     These clouds arent going nowhere darling Ra...   \n",
       "419     I know now how much I love you I knew it su...   \n",
       "\n",
       "                                            whitespace  \\\n",
       "410     Theres a poet in me that remembers And ther...   \n",
       "411     Hmmm  Oh fuck just lie to me Tell me someth...   \n",
       "412     I was so lonely until I met you Told myself...   \n",
       "413     We used to talk forever on a dime Now we li...   \n",
       "414     For the first time in such a long time Ive ...   \n",
       "415     So scared I never been Too hard to keep it ...   \n",
       "416     I found the boy for me Hes my dream baby  H...   \n",
       "417     Ya shook the override  Whyd I get this far ...   \n",
       "418     These clouds arent going nowhere darling Ra...   \n",
       "419     I know now how much I love you I knew it su...   \n",
       "\n",
       "                                             lowercase  \\\n",
       "410     theres a poet in me that remembers and ther...   \n",
       "411     hmmm  oh fuck just lie to me tell me someth...   \n",
       "412     i was so lonely until i met you told myself...   \n",
       "413     we used to talk forever on a dime now we li...   \n",
       "414     for the first time in such a long time ive ...   \n",
       "415     so scared i never been too hard to keep it ...   \n",
       "416     i found the boy for me hes my dream baby  h...   \n",
       "417     ya shook the override  whyd i get this far ...   \n",
       "418     these clouds arent going nowhere darling ra...   \n",
       "419     i know now how much i love you i knew it su...   \n",
       "\n",
       "                                             use_words  \n",
       "410  theres poet remembers theres honesty every wor...  \n",
       "411  hmmm oh fuck lie tell something sweet till loo...  \n",
       "412  lonely met told id get without love drowning s...  \n",
       "413  used talk forever dime live together never fin...  \n",
       "414  first time long time ive feeling theres reason...  \n",
       "415  scared never hard keep good girl independent c...  \n",
       "416  found boy hes dream baby doesnt almost die wal...  \n",
       "417  ya shook override whyd get far time ton mean r...  \n",
       "418  clouds arent going nowhere darling rain keeps ...  \n",
       "419  know much love knew surely saw blood cried wet...  "
      ]
     },
     "execution_count": 29,
     "metadata": {},
     "output_type": "execute_result"
    }
   ],
   "source": [
    "lyric.tail(10)"
   ]
  },
  {
   "cell_type": "markdown",
   "id": "f2dd0179",
   "metadata": {},
   "source": [
    "## Basic Descriptive Statistics\n",
    "\n",
    "Call your `descriptive_stats` function on both your lyrics data and your twitter data and for both artists (four total calls). "
   ]
  },
  {
   "cell_type": "code",
   "execution_count": 30,
   "id": "f0bbedd9",
   "metadata": {},
   "outputs": [],
   "source": [
    "# calls to descriptive_stats here\n",
    "\n",
    "# cher\n",
    "cher_desc = twitter[twitter['artist'] == 'cher'][['use_words']]\n",
    "cher_text = re.sub('\\s+\\.','.', ' '.join(cher_desc['use_words']))\n",
    "cher_list = cher_text.split()\n",
    "\n",
    "cher_lyrics = lyric[lyric['artist'] == 'cher'][['use_words']]\n",
    "cher_lyrics_text = re.sub('\\s+\\.','.', ' '.join(cher_lyrics['use_words']))\n",
    "cher_lyrics_list = cher_lyrics_text.split()\n",
    "\n",
    "# robyn\n",
    "robyn_desc = twitter[twitter['artist'] == 'robyn'][['use_words']]\n",
    "robyn_text = re.sub('\\s+\\.','.', ' '.join(robyn_desc['use_words']))\n",
    "robyn_list = robyn_text.split()\n",
    "\n",
    "robyn_lyrics = lyric[lyric['artist'] == 'robyn'][['use_words']]\n",
    "robyn_lyrics_text = re.sub('\\s+\\.','.', ' '.join(robyn_lyrics['use_words']))\n",
    "robyn_lyrics_list = robyn_lyrics_text.split()"
   ]
  },
  {
   "cell_type": "code",
   "execution_count": 31,
   "id": "cc7f03d8",
   "metadata": {},
   "outputs": [
    {
     "name": "stdout",
     "output_type": "stream",
     "text": [
      "Descriptive statistics for Cher follower descriptions:\n",
      "There are 14219405 tokens in the data.\n",
      "There are 1198811 unique tokens in the data.\n",
      "There are 80184848 characters in the data.\n",
      "The lexical diversity is 0.084 in the data.\n",
      "[('none', 2612958), ('love', 141632), ('im', 92060), ('life', 87862), ('music', 65892)]\n",
      "\n",
      "Descriptive statistics for Cher lyrics:\n",
      "There are 35233 tokens in the data.\n",
      "There are 3684 unique tokens in the data.\n",
      "There are 169244 characters in the data.\n",
      "The lexical diversity is 0.105 in the data.\n",
      "[('love', 966), ('im', 511), ('know', 480), ('dont', 430), ('youre', 332)]\n",
      "\n",
      "Descriptive statistics for Robyn follower descriptions:\n",
      "There are 1393896 tokens in the data.\n",
      "There are 210455 unique tokens in the data.\n",
      "There are 8141230 characters in the data.\n",
      "The lexical diversity is 0.151 in the data.\n",
      "[('none', 215682), ('music', 12487), ('love', 8503), ('im', 6749), ('life', 5806)]\n",
      "\n",
      "Descriptive statistics for Robyn lyrics:\n",
      "There are 15041 tokens in the data.\n",
      "There are 2139 unique tokens in the data.\n",
      "There are 72804 characters in the data.\n",
      "The lexical diversity is 0.142 in the data.\n",
      "[('know', 305), ('im', 299), ('dont', 297), ('love', 269), ('got', 249)]\n"
     ]
    },
    {
     "data": {
      "text/plain": [
       "[15041, 2139, 0.1422112891430091, 72804]"
      ]
     },
     "execution_count": 31,
     "metadata": {},
     "output_type": "execute_result"
    }
   ],
   "source": [
    "# descriptive statistics calls\n",
    "\n",
    "print('Descriptive statistics for Cher follower descriptions:')\n",
    "descriptive_stats(cher_list, cher_text, verbose=True)\n",
    "\n",
    "print ('\\nDescriptive statistics for Cher lyrics:')\n",
    "descriptive_stats(cher_lyrics_list, cher_lyrics_text, verbose=True)\n",
    "\n",
    "print('\\nDescriptive statistics for Robyn follower descriptions:')\n",
    "descriptive_stats(robyn_list, robyn_text, verbose=True)\n",
    "\n",
    "print ('\\nDescriptive statistics for Robyn lyrics:')\n",
    "descriptive_stats(robyn_lyrics_list, robyn_lyrics_text, verbose=True)"
   ]
  },
  {
   "cell_type": "markdown",
   "id": "46294409",
   "metadata": {},
   "source": [
    "Q: How do you think the \"top 5 words\" would be different if we left stopwords in the data? \n",
    "\n",
    "A: If the stopwords were left in the data, the top five words may have changed completely. As seen from Module 1's assignment, all of the top 5 words were found to be one of these stopwords.\n",
    "\n",
    "---\n",
    "\n",
    "Q: What were your prior beliefs about the lexical diversity between the artists? Does the difference (or lack thereof) in lexical diversity between the artists conform to your prior beliefs? \n",
    "\n",
    "A: Since these are two different artists, I would have thought that the lexical diversity between the two would be greater. However, as pop artists tend to have songs that are quite repetitive, it makes sense that both Cher and Robyn wouldn't show high lexical complexity. They even appear to have similar song \"themes\", with love and know appearing in both of their top 5 words.\n"
   ]
  },
  {
   "cell_type": "markdown",
   "id": "4d4e1ac1",
   "metadata": {},
   "source": [
    "\n",
    "## Specialty Statistics\n",
    "\n",
    "The descriptive statistics we have calculated are quite generic. You will now calculate a handful of statistics tailored to these data.\n",
    "\n",
    "1. Ten most common emojis by artist in the twitter descriptions.\n",
    "1. Ten most common hashtags by artist in the twitter descriptions.\n",
    "1. Five most common words in song titles by artist. \n",
    "1. For each artist, a histogram of song lengths (in terms of number of tokens) \n",
    "\n",
    "We can use the `emoji` library to help us identify emojis and you have been given a function to help you.\n"
   ]
  },
  {
   "cell_type": "code",
   "execution_count": 32,
   "id": "753a5a3e",
   "metadata": {},
   "outputs": [],
   "source": [
    "def is_emoji(s):\n",
    "    # see slack. UNICODE_EMOJI is depracated -> return(s in emoji.UNICODE_EMOJI['en'])\n",
    "    return(emoji.is_emoji(s))\n",
    "assert(is_emoji(\"❤️\"))\n",
    "assert(not is_emoji(\":-)\"))"
   ]
  },
  {
   "cell_type": "markdown",
   "id": "986fc4c0",
   "metadata": {},
   "source": [
    "### Emojis 😁\n",
    "\n",
    "What are the ten most common emojis by artist in the twitter descriptions? \n"
   ]
  },
  {
   "cell_type": "code",
   "execution_count": 33,
   "id": "269cd433",
   "metadata": {},
   "outputs": [
    {
     "name": "stdout",
     "output_type": "stream",
     "text": [
      "The top 10 emojis most commonly used by Cher fans in their Twitter descriptions are:\n",
      "[('🏳️\\u200d🌈', 11481), ('❤️', 10430), ('♥', 6720), ('❤', 6369), ('✨', 6054), ('🌈', 4365), ('🇺🇸', 3003), ('💙', 2805), ('💜', 2592), ('🌊', 2537)]\n"
     ]
    }
   ],
   "source": [
    "# cher followers\n",
    "cher_emojis = []\n",
    "\n",
    "for i in cher_list:\n",
    "    if is_emoji(i):\n",
    "        cher_emojis.append(i)\n",
    "        \n",
    "print('The top 10 emojis most commonly used by Cher fans in their Twitter descriptions are:')\n",
    "print(Counter(cher_emojis).most_common(10))"
   ]
  },
  {
   "cell_type": "code",
   "execution_count": 34,
   "id": "9e485e05",
   "metadata": {},
   "outputs": [
    {
     "name": "stdout",
     "output_type": "stream",
     "text": [
      "The top 10 emojis most commonly used by Robyn fans in their Twitter descriptions are:\n",
      "[('🏳️\\u200d🌈', 1542), ('♥', 801), ('❤️', 736), ('✨', 622), ('🌈', 495), ('❤', 425), ('🎶', 233), ('🎧', 196), ('🖤', 185), ('💜', 153)]\n"
     ]
    }
   ],
   "source": [
    "# robyn followers\n",
    "robyn_emojis = []\n",
    "\n",
    "for i in robyn_list:\n",
    "    if is_emoji(i):\n",
    "        robyn_emojis.append(i)\n",
    "        \n",
    "print('The top 10 emojis most commonly used by Robyn fans in their Twitter descriptions are:')\n",
    "print(Counter(robyn_emojis).most_common(10))"
   ]
  },
  {
   "cell_type": "markdown",
   "id": "bab9b770",
   "metadata": {},
   "source": [
    "### Hashtags\n",
    "\n",
    "What are the ten most common hashtags by artist in the twitter descriptions? \n"
   ]
  },
  {
   "cell_type": "code",
   "execution_count": 35,
   "id": "07c396f1",
   "metadata": {},
   "outputs": [],
   "source": [
    "# redefine because we removed punctuations\n",
    "\n",
    "# cher\n",
    "cher_desc = twitter[twitter['artist'] == 'cher'][['description']].astype(str)\n",
    "cher_desc_text = re.sub('\\s+\\.','.', ' '.join(cher_desc['description']))\n",
    "cher_desc_list = cher_desc_text.split()\n",
    "\n",
    "# robyn\n",
    "robyn_desc = twitter[twitter['artist'] == 'robyn'][['description']].astype(str)\n",
    "robyn_desc_text = re.sub('\\s+\\.','.', ' '.join(robyn_desc['description']))\n",
    "robyn_desc_list = robyn_desc_text.split()"
   ]
  },
  {
   "cell_type": "code",
   "execution_count": 36,
   "id": "6b34c315",
   "metadata": {},
   "outputs": [
    {
     "name": "stdout",
     "output_type": "stream",
     "text": [
      "The top 10 hashtags most commonly used by Cher fans in their Twitter descriptions are:\n",
      "[('#BLM', 6461), ('#Resist', 3938), ('#BlackLivesMatter', 3434), ('#resist', 2457), ('#FBR', 2212), ('#TheResistance', 1948), ('#blacklivesmatter', 1902), ('#1', 1663), ('#Resistance', 1211), ('#RESIST', 1159)]\n"
     ]
    }
   ],
   "source": [
    "# cher followers\n",
    "cher_hashtags = []\n",
    "\n",
    "for i in cher_desc_list:\n",
    "    if re.findall(r\"#(\\w+)\", i):\n",
    "        cher_hashtags.append(i)\n",
    "\n",
    "print('The top 10 hashtags most commonly used by Cher fans in their Twitter descriptions are:')\n",
    "print(Counter(cher_hashtags).most_common(10))"
   ]
  },
  {
   "cell_type": "code",
   "execution_count": 37,
   "id": "8f6304ec",
   "metadata": {},
   "outputs": [
    {
     "name": "stdout",
     "output_type": "stream",
     "text": [
      "The top 10 hashtags most commonly used by Robyn fans in their Twitter descriptions are:\n",
      "[('#BlackLivesMatter', 277), ('#BLM', 238), ('#blacklivesmatter', 169), ('#1', 151), ('#music', 131), ('#Music', 83), ('#EDM', 71), ('#blm', 43), ('#LGBTQ', 42), ('#TeamFollowBack', 42)]\n"
     ]
    }
   ],
   "source": [
    "# robyn followers\n",
    "robyn_hashtags = []\n",
    "\n",
    "for i in robyn_desc_list:\n",
    "    if re.findall(r\"#(\\w+)\", i):\n",
    "        robyn_hashtags.append(i)\n",
    "\n",
    "print('The top 10 hashtags most commonly used by Robyn fans in their Twitter descriptions are:')\n",
    "print(Counter(robyn_hashtags).most_common(10))"
   ]
  },
  {
   "cell_type": "markdown",
   "id": "d10f21d5",
   "metadata": {},
   "source": [
    "### Song Titles\n",
    "\n",
    "What are the five most common words in song titles by artist? The song titles should be on the first line of the lyrics pages, so if you have kept the raw file contents around, you will not need to re-read the data.\n"
   ]
  },
  {
   "cell_type": "code",
   "execution_count": 38,
   "id": "bb69b36b",
   "metadata": {},
   "outputs": [],
   "source": [
    "# cher\n",
    "cher_lyrics = lyric[lyric['artist'] == 'cher'][['song']]\n",
    "cher_lyrics_text = re.sub('\\s+\\.','.', ' '.join(cher_lyrics['song']))\n",
    "cher_lyrics_list = cher_lyrics_text.split()\n",
    "\n",
    "# robyn\n",
    "robyn_lyrics = lyric[lyric['artist'] == 'robyn'][['song']]\n",
    "robyn_lyrics_text = re.sub('\\s+\\.','.', ' '.join(robyn_lyrics['song']))\n",
    "robyn_lyrics_list = robyn_lyrics_text.split()"
   ]
  },
  {
   "cell_type": "code",
   "execution_count": 39,
   "id": "e93f3450",
   "metadata": {},
   "outputs": [
    {
     "name": "stdout",
     "output_type": "stream",
     "text": [
      "The top 5 common words in Cher song titles are:\n",
      "[('The', 29), ('To', 28), ('\"The', 24), ('Of', 21), ('\"I', 21)]\n"
     ]
    }
   ],
   "source": [
    "print('The top 5 common words in Cher song titles are:')\n",
    "print(Counter(cher_lyrics_list).most_common(5))"
   ]
  },
  {
   "cell_type": "code",
   "execution_count": 40,
   "id": "6f5235bc",
   "metadata": {},
   "outputs": [
    {
     "name": "stdout",
     "output_type": "stream",
     "text": [
      "The top 5 common words in Robyn song titles are:\n",
      "[('Me', 7), ('You', 7), ('The', 7), ('My', 6), ('To', 6)]\n"
     ]
    }
   ],
   "source": [
    "print('The top 5 common words in Robyn song titles are:')\n",
    "print(Counter(robyn_lyrics_list).most_common(5))"
   ]
  },
  {
   "cell_type": "markdown",
   "id": "5dd4fd71",
   "metadata": {},
   "source": [
    "### Song Lengths\n",
    "\n",
    "For each artist, a histogram of song lengths (in terms of number of tokens). If you put the song lengths in a data frame with an artist column, matplotlib will make the plotting quite easy. An example is given to help you out. \n"
   ]
  },
  {
   "cell_type": "code",
   "execution_count": 41,
   "id": "805a1e52",
   "metadata": {},
   "outputs": [
    {
     "data": {
      "image/png": "[encoded data removed]",
      "text/plain": [
       "<Figure size 640x480 with 1 Axes>"
      ]
     },
     "metadata": {},
     "output_type": "display_data"
    }
   ],
   "source": [
    "num_replicates = 1000\n",
    "\n",
    "df = pd.DataFrame({\n",
    "    \"artist\" : ['Artist 1'] * num_replicates + ['Artist 2']*num_replicates,\n",
    "    \"length\" : np.concatenate((np.random.poisson(125,num_replicates),np.random.poisson(150,num_replicates)))\n",
    "})\n",
    "\n",
    "df.groupby('artist')['length'].plot(kind=\"hist\",density=True,alpha=0.5,legend=True)\n",
    "plt.show()"
   ]
  },
  {
   "cell_type": "markdown",
   "id": "8fde9ebb",
   "metadata": {},
   "source": [
    "Since the lyrics may be stored with carriage returns or tabs, it may be useful to have a function that can collapse whitespace, using regular expressions, and be used for splitting. \n",
    "\n",
    "Q: What does the regular expression `'\\s+'` match on? \n",
    "\n",
    "A: It matches on one or more white spaces.\n"
   ]
  },
  {
   "cell_type": "code",
   "execution_count": 42,
   "id": "f0e34516",
   "metadata": {},
   "outputs": [],
   "source": [
    "collapse_whitespace = re.compile(r'\\s+')\n",
    "\n",
    "def tokenize_lyrics(lyric) : \n",
    "    \"\"\"strip and split on whitespace\"\"\"\n",
    "    return([item.lower() for item in collapse_whitespace.split(lyric)])"
   ]
  },
  {
   "cell_type": "code",
   "execution_count": 43,
   "id": "2294c440",
   "metadata": {},
   "outputs": [
    {
     "data": {
      "text/html": [
       "<div>\n",
       "<style scoped>\n",
       "    .dataframe tbody tr th:only-of-type {\n",
       "        vertical-align: middle;\n",
       "    }\n",
       "\n",
       "    .dataframe tbody tr th {\n",
       "        vertical-align: top;\n",
       "    }\n",
       "\n",
       "    .dataframe thead th {\n",
       "        text-align: right;\n",
       "    }\n",
       "</style>\n",
       "<table border=\"1\" class=\"dataframe\">\n",
       "  <thead>\n",
       "    <tr style=\"text-align: right;\">\n",
       "      <th></th>\n",
       "      <th>artist</th>\n",
       "      <th>song</th>\n",
       "      <th>lyric</th>\n",
       "      <th>no_punc</th>\n",
       "      <th>whitespace</th>\n",
       "      <th>lowercase</th>\n",
       "      <th>use_words</th>\n",
       "      <th>song_length</th>\n",
       "    </tr>\n",
       "  </thead>\n",
       "  <tbody>\n",
       "    <tr>\n",
       "      <th>0</th>\n",
       "      <td>robyn</td>\n",
       "      <td>\"Include Me Out\"</td>\n",
       "      <td>It is really very simple Just a single puls...</td>\n",
       "      <td>It is really very simple Just a single puls...</td>\n",
       "      <td>It is really very simple Just a single puls...</td>\n",
       "      <td>it is really very simple just a single puls...</td>\n",
       "      <td>really simple single pulse repeated regular in...</td>\n",
       "      <td>233</td>\n",
       "    </tr>\n",
       "    <tr>\n",
       "      <th>1</th>\n",
       "      <td>robyn</td>\n",
       "      <td>\"Electric\"</td>\n",
       "      <td>Electric...  It's electric It's a natural h...</td>\n",
       "      <td>Electric  Its electric Its a natural high E...</td>\n",
       "      <td>Electric  Its electric Its a natural high E...</td>\n",
       "      <td>electric  its electric its a natural high e...</td>\n",
       "      <td>electric electric natural high electric dont a...</td>\n",
       "      <td>152</td>\n",
       "    </tr>\n",
       "    <tr>\n",
       "      <th>2</th>\n",
       "      <td>robyn</td>\n",
       "      <td>\"Beach 2K20\"</td>\n",
       "      <td>(So you wanna go out? How you gonna get the...</td>\n",
       "      <td>So you wanna go out How you gonna get there...</td>\n",
       "      <td>So you wanna go out How you gonna get there...</td>\n",
       "      <td>so you wanna go out how you gonna get there...</td>\n",
       "      <td>wanna go gonna get ok call someone alright ok ...</td>\n",
       "      <td>172</td>\n",
       "    </tr>\n",
       "    <tr>\n",
       "      <th>3</th>\n",
       "      <td>robyn</td>\n",
       "      <td>\"Love Kills\"</td>\n",
       "      <td>If you're looking for love Get a heart made...</td>\n",
       "      <td>If youre looking for love Get a heart made ...</td>\n",
       "      <td>If youre looking for love Get a heart made ...</td>\n",
       "      <td>if youre looking for love get a heart made ...</td>\n",
       "      <td>youre looking love get heart made steel cus kn...</td>\n",
       "      <td>244</td>\n",
       "    </tr>\n",
       "    <tr>\n",
       "      <th>4</th>\n",
       "      <td>robyn</td>\n",
       "      <td>\"Time Machine\"</td>\n",
       "      <td>Hey, what did I do? Can't believe the fit I...</td>\n",
       "      <td>Hey what did I do Cant believe the fit I ju...</td>\n",
       "      <td>Hey what did I do Cant believe the fit I ju...</td>\n",
       "      <td>hey what did i do cant believe the fit i ju...</td>\n",
       "      <td>hey cant believe fit threw stupid wanted react...</td>\n",
       "      <td>127</td>\n",
       "    </tr>\n",
       "  </tbody>\n",
       "</table>\n",
       "</div>"
      ],
      "text/plain": [
       "  artist               song  \\\n",
       "0  robyn  \"Include Me Out\"    \n",
       "1  robyn        \"Electric\"    \n",
       "2  robyn      \"Beach 2K20\"    \n",
       "3  robyn      \"Love Kills\"    \n",
       "4  robyn    \"Time Machine\"    \n",
       "\n",
       "                                               lyric  \\\n",
       "0     It is really very simple Just a single puls...   \n",
       "1     Electric...  It's electric It's a natural h...   \n",
       "2     (So you wanna go out? How you gonna get the...   \n",
       "3     If you're looking for love Get a heart made...   \n",
       "4     Hey, what did I do? Can't believe the fit I...   \n",
       "\n",
       "                                             no_punc  \\\n",
       "0     It is really very simple Just a single puls...   \n",
       "1     Electric  Its electric Its a natural high E...   \n",
       "2     So you wanna go out How you gonna get there...   \n",
       "3     If youre looking for love Get a heart made ...   \n",
       "4     Hey what did I do Cant believe the fit I ju...   \n",
       "\n",
       "                                          whitespace  \\\n",
       "0     It is really very simple Just a single puls...   \n",
       "1     Electric  Its electric Its a natural high E...   \n",
       "2     So you wanna go out How you gonna get there...   \n",
       "3     If youre looking for love Get a heart made ...   \n",
       "4     Hey what did I do Cant believe the fit I ju...   \n",
       "\n",
       "                                           lowercase  \\\n",
       "0     it is really very simple just a single puls...   \n",
       "1     electric  its electric its a natural high e...   \n",
       "2     so you wanna go out how you gonna get there...   \n",
       "3     if youre looking for love get a heart made ...   \n",
       "4     hey what did i do cant believe the fit i ju...   \n",
       "\n",
       "                                           use_words  song_length  \n",
       "0  really simple single pulse repeated regular in...          233  \n",
       "1  electric electric natural high electric dont a...          152  \n",
       "2  wanna go gonna get ok call someone alright ok ...          172  \n",
       "3  youre looking love get heart made steel cus kn...          244  \n",
       "4  hey cant believe fit threw stupid wanted react...          127  "
      ]
     },
     "execution_count": 43,
     "metadata": {},
     "output_type": "execute_result"
    }
   ],
   "source": [
    "lyric['song_length'] = lyric['use_words'].str.split(' ').str.len()\n",
    "lyric.head(5)"
   ]
  },
  {
   "cell_type": "code",
   "execution_count": 44,
   "id": "abf56431",
   "metadata": {},
   "outputs": [
    {
     "data": {
      "text/plain": [
       "array(['robyn', 'cher'], dtype=object)"
      ]
     },
     "execution_count": 44,
     "metadata": {},
     "output_type": "execute_result"
    }
   ],
   "source": [
    "lyric.artist.unique()"
   ]
  },
  {
   "cell_type": "code",
   "execution_count": 45,
   "id": "d1780bd8",
   "metadata": {},
   "outputs": [
    {
     "data": {
      "image/png": "[encoded data removed]",
      "text/plain": [
       "<Figure size 640x480 with 1 Axes>"
      ]
     },
     "metadata": {},
     "output_type": "display_data"
    }
   ],
   "source": [
    "# your lyric length comparison chart here\n",
    "lyric.groupby('artist')['song_length'].plot(kind=\"hist\",density=True,alpha=0.5,legend=True)\n",
    "plt.show()"
   ]
  },
  {
   "cell_type": "code",
   "execution_count": null,
   "id": "6437af93",
   "metadata": {},
   "outputs": [],
   "source": []
  }
 ],
 "metadata": {
  "kernelspec": {
   "display_name": "Python 3",
   "language": "python",
   "name": "python3"
  },
  "language_info": {
   "codemirror_mode": {
    "name": "ipython",
    "version": 3
   },
   "file_extension": ".py",
   "mimetype": "text/x-python",
   "name": "python",
   "nbconvert_exporter": "python",
   "pygments_lexer": "ipython3",
   "version": "3.8.8"
  }
 },
 "nbformat": 4,
 "nbformat_minor": 5
}
